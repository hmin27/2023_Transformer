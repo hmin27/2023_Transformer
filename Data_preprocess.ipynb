{
 "cells": [
  {
   "cell_type": "markdown",
   "metadata": {},
   "source": [
    "# Load the dataset 'Eng to Deu'"
   ]
  },
  {
   "cell_type": "markdown",
   "metadata": {},
   "source": [
    "Tokenizer(BPE): https://huggingface.co/learn/nlp-course/chapter6/5?fw=pt\n",
    "\n",
    "SentencePiece: https://wikidocs.net/86657 & https://github.com/google/sentencepiece"
   ]
  },
  {
   "cell_type": "code",
   "execution_count": null,
   "metadata": {},
   "outputs": [],
   "source": [
    "%pip install datasets\n",
    "%pip install transformers"
   ]
  },
  {
   "cell_type": "code",
   "execution_count": 2,
   "metadata": {},
   "outputs": [
    {
     "name": "stderr",
     "output_type": "stream",
     "text": [
      "c:\\Users\\user\\AppData\\Local\\Programs\\Python\\Python310\\lib\\site-packages\\tqdm\\auto.py:21: TqdmWarning: IProgress not found. Please update jupyter and ipywidgets. See https://ipywidgets.readthedocs.io/en/stable/user_install.html\n",
      "  from .autonotebook import tqdm as notebook_tqdm\n"
     ]
    }
   ],
   "source": [
    "from datasets import load_dataset\n",
    "\n",
    "dataset = load_dataset('iwslt2017','iwslt2017-en-de')"
   ]
  },
  {
   "cell_type": "code",
   "execution_count": null,
   "metadata": {},
   "outputs": [],
   "source": [
    "train_dataset = dataset['train']\n",
    "val_dataset = dataset['validation']\n",
    "test_dataset = dataset['test']\n",
    "\n",
    "train_dataset['translation']"
   ]
  },
  {
   "cell_type": "markdown",
   "metadata": {},
   "source": [
    "# Text Tokenizer\n",
    "Sentence Piece로 영어, 독일어 vocab 생성"
   ]
  },
  {
   "cell_type": "code",
   "execution_count": 5,
   "metadata": {},
   "outputs": [
    {
     "name": "stdout",
     "output_type": "stream",
     "text": [
      "Requirement already satisfied: sentencepiece in c:\\users\\user\\appdata\\local\\programs\\python\\python310\\lib\\site-packages (0.1.99)\n",
      "Note: you may need to restart the kernel to use updated packages.\n"
     ]
    },
    {
     "name": "stderr",
     "output_type": "stream",
     "text": [
      "WARNING: You are using pip version 22.0.4; however, version 23.3.1 is available.\n",
      "You should consider upgrading via the 'c:\\Users\\user\\AppData\\Local\\Programs\\Python\\Python310\\python.exe -m pip install --upgrade pip' command.\n"
     ]
    }
   ],
   "source": [
    "%pip install sentencepiece"
   ]
  },
  {
   "cell_type": "code",
   "execution_count": 21,
   "metadata": {},
   "outputs": [
    {
     "data": {
      "text/html": [
       "<div>\n",
       "<style scoped>\n",
       "    .dataframe tbody tr th:only-of-type {\n",
       "        vertical-align: middle;\n",
       "    }\n",
       "\n",
       "    .dataframe tbody tr th {\n",
       "        vertical-align: top;\n",
       "    }\n",
       "\n",
       "    .dataframe thead th {\n",
       "        text-align: right;\n",
       "    }\n",
       "</style>\n",
       "<table border=\"1\" class=\"dataframe\">\n",
       "  <thead>\n",
       "    <tr style=\"text-align: right;\">\n",
       "      <th></th>\n",
       "      <th>de</th>\n",
       "      <th>en</th>\n",
       "    </tr>\n",
       "  </thead>\n",
       "  <tbody>\n",
       "    <tr>\n",
       "      <th>0</th>\n",
       "      <td>Vielen Dank, Chris.</td>\n",
       "      <td>Thank you so much, Chris.</td>\n",
       "    </tr>\n",
       "    <tr>\n",
       "      <th>1</th>\n",
       "      <td>Es ist mir wirklich eine Ehre, zweimal auf die...</td>\n",
       "      <td>And it's truly a great honor to have the oppor...</td>\n",
       "    </tr>\n",
       "    <tr>\n",
       "      <th>2</th>\n",
       "      <td>Ich bin wirklich begeistert von dieser Konfere...</td>\n",
       "      <td>I have been blown away by this conference, and...</td>\n",
       "    </tr>\n",
       "    <tr>\n",
       "      <th>3</th>\n",
       "      <td>Das meine ich ernst, teilweise deshalb -- weil...</td>\n",
       "      <td>And I say that sincerely, partly because  I ne...</td>\n",
       "    </tr>\n",
       "    <tr>\n",
       "      <th>4</th>\n",
       "      <td>Versetzen Sie sich mal in meine Lage!</td>\n",
       "      <td>Put yourselves in my position.</td>\n",
       "    </tr>\n",
       "    <tr>\n",
       "      <th>...</th>\n",
       "      <td>...</td>\n",
       "      <td>...</td>\n",
       "    </tr>\n",
       "    <tr>\n",
       "      <th>206107</th>\n",
       "      <td>Den alten Griechen fiel auch nicht eines Tages...</td>\n",
       "      <td>The Ancient Greeks didn't just wake up one day...</td>\n",
       "    </tr>\n",
       "    <tr>\n",
       "      <th>206108</th>\n",
       "      <td>Wir Menschen brauchten Jahrhunderte, um Sachen...</td>\n",
       "      <td>It took centuries, even, for humans to realize...</td>\n",
       "    </tr>\n",
       "    <tr>\n",
       "      <th>206109</th>\n",
       "      <td>Deshalb müssen wir unser Verständnis von Norma...</td>\n",
       "      <td>And so we must continuously challenge our noti...</td>\n",
       "    </tr>\n",
       "    <tr>\n",
       "      <th>206110</th>\n",
       "      <td>Figuren: Danke. Danke. Danke. Danke. Danke.</td>\n",
       "      <td>Characters: Thank you. Thank you. Thank you. T...</td>\n",
       "    </tr>\n",
       "    <tr>\n",
       "      <th>206111</th>\n",
       "      <td>Frankensteins Monster:   SS: Danke.</td>\n",
       "      <td>Frankenstein's monster:   SS: Thank you.</td>\n",
       "    </tr>\n",
       "  </tbody>\n",
       "</table>\n",
       "<p>206112 rows × 2 columns</p>\n",
       "</div>"
      ],
      "text/plain": [
       "                                                       de  \\\n",
       "0                                     Vielen Dank, Chris.   \n",
       "1       Es ist mir wirklich eine Ehre, zweimal auf die...   \n",
       "2       Ich bin wirklich begeistert von dieser Konfere...   \n",
       "3       Das meine ich ernst, teilweise deshalb -- weil...   \n",
       "4                   Versetzen Sie sich mal in meine Lage!   \n",
       "...                                                   ...   \n",
       "206107  Den alten Griechen fiel auch nicht eines Tages...   \n",
       "206108  Wir Menschen brauchten Jahrhunderte, um Sachen...   \n",
       "206109  Deshalb müssen wir unser Verständnis von Norma...   \n",
       "206110        Figuren: Danke. Danke. Danke. Danke. Danke.   \n",
       "206111                Frankensteins Monster:   SS: Danke.   \n",
       "\n",
       "                                                       en  \n",
       "0                               Thank you so much, Chris.  \n",
       "1       And it's truly a great honor to have the oppor...  \n",
       "2       I have been blown away by this conference, and...  \n",
       "3       And I say that sincerely, partly because  I ne...  \n",
       "4                          Put yourselves in my position.  \n",
       "...                                                   ...  \n",
       "206107  The Ancient Greeks didn't just wake up one day...  \n",
       "206108  It took centuries, even, for humans to realize...  \n",
       "206109  And so we must continuously challenge our noti...  \n",
       "206110  Characters: Thank you. Thank you. Thank you. T...  \n",
       "206111           Frankenstein's monster:   SS: Thank you.  \n",
       "\n",
       "[206112 rows x 2 columns]"
      ]
     },
     "execution_count": 21,
     "metadata": {},
     "output_type": "execute_result"
    }
   ],
   "source": [
    "# 독일어, 영어로 된 dataframe 만들기\n",
    "import pandas as pd\n",
    "\n",
    "# Train \n",
    "train_dic = {\n",
    "    'de': [],\n",
    "    'en': []\n",
    "}\n",
    "for idx, data in enumerate (train_dataset):\n",
    "    train_dic['de'].append(train_dataset[idx]['translation']['de'])\n",
    "    train_dic['en'].append(train_dataset[idx]['translation']['en'])\n",
    "\n",
    "# validation\n",
    "val_dic = {\n",
    "    'de': [],\n",
    "    'en': []\n",
    "}\n",
    "for idx, data in enumerate (val_dataset):\n",
    "    val_dic['de'].append(val_dataset[idx]['translation']['de'])\n",
    "    val_dic['en'].append(val_dataset[idx]['translation']['en'])\n",
    "\n",
    "# test\n",
    "test_dic = {\n",
    "    'de': [],\n",
    "    'en': []\n",
    "}\n",
    "for idx, data in enumerate (test_dataset):\n",
    "    test_dic['de'].append(test_dataset[idx]['translation']['de'])\n",
    "    test_dic['en'].append(test_dataset[idx]['translation']['en'])\n",
    "\n",
    "\n",
    "train_df = pd.DataFrame(train_dic)\n",
    "val_df = pd.DataFrame(val_dic)\n",
    "test_df = pd.DataFrame(test_dic)\n",
    "\n",
    "train_df   \n"
   ]
  },
  {
   "cell_type": "code",
   "execution_count": 22,
   "metadata": {},
   "outputs": [],
   "source": [
    "# 독일어 문장, 영어 문장 따로 text 파일 만들기\n",
    "\n",
    "# Train\n",
    "with open('de_train.txt', 'w', encoding='utf8') as f:\n",
    "    f.write('\\n'.join(train_df['de']))\n",
    "with open('en_train.txt', 'w', encoding='utf8') as f:\n",
    "    f.write('\\n'.join(train_df['en']))\n",
    "\n",
    "# Val\n",
    "with open('de_validation.txt', 'w', encoding='utf8') as f:\n",
    "    f.write('\\n'.join(val_df['de']))\n",
    "with open('en_validation.txt', 'w', encoding='utf8') as f:\n",
    "    f.write('\\n'.join(val_df['en']))\n",
    "\n",
    "# Test\n",
    "with open('de_test.txt', 'w', encoding='utf8') as f:\n",
    "    f.write('\\n'.join(test_df['de']))\n",
    "with open('en_test.txt', 'w', encoding='utf8') as f:\n",
    "    f.write('\\n'.join(test_df['en']))"
   ]
  },
  {
   "cell_type": "code",
   "execution_count": 23,
   "metadata": {},
   "outputs": [],
   "source": [
    "import sentencepiece as spm\n",
    "\n",
    "vocab_size = 8000\n",
    "\n",
    "# SentencePiece 모델 학습\n",
    "spm.SentencePieceTrainer.Train('--input={} --model_prefix={} --vocab_size={} --model_type=bpe'.format('de_train.txt', 'de', vocab_size))\n",
    "spm.SentencePieceTrainer.Train('--input={} --model_prefix={} --vocab_size={} --model_type=bpe'.format('en_train.txt', 'en', vocab_size))"
   ]
  },
  {
   "cell_type": "code",
   "execution_count": 28,
   "metadata": {},
   "outputs": [],
   "source": [
    "import pandas as pd\n",
    "import csv\n",
    "\n",
    "vocab_de_list = pd.read_csv('de.vocab', sep='\\t', header=None, quoting=csv.QUOTE_NONE)\n",
    "vocab_en_list = pd.read_csv('en.vocab', sep='\\t', header=None, quoting=csv.QUOTE_NONE)\n"
   ]
  },
  {
   "cell_type": "code",
   "execution_count": 29,
   "metadata": {},
   "outputs": [
    {
     "data": {
      "text/html": [
       "<div>\n",
       "<style scoped>\n",
       "    .dataframe tbody tr th:only-of-type {\n",
       "        vertical-align: middle;\n",
       "    }\n",
       "\n",
       "    .dataframe tbody tr th {\n",
       "        vertical-align: top;\n",
       "    }\n",
       "\n",
       "    .dataframe thead th {\n",
       "        text-align: right;\n",
       "    }\n",
       "</style>\n",
       "<table border=\"1\" class=\"dataframe\">\n",
       "  <thead>\n",
       "    <tr style=\"text-align: right;\">\n",
       "      <th></th>\n",
       "      <th>0</th>\n",
       "      <th>1</th>\n",
       "    </tr>\n",
       "  </thead>\n",
       "  <tbody>\n",
       "    <tr>\n",
       "      <th>6798</th>\n",
       "      <td>▁Dan</td>\n",
       "      <td>-6795</td>\n",
       "    </tr>\n",
       "    <tr>\n",
       "      <th>3476</th>\n",
       "      <td>▁Kampf</td>\n",
       "      <td>-3473</td>\n",
       "    </tr>\n",
       "    <tr>\n",
       "      <th>7181</th>\n",
       "      <td>▁bestand</td>\n",
       "      <td>-7178</td>\n",
       "    </tr>\n",
       "    <tr>\n",
       "      <th>6415</th>\n",
       "      <td>▁Pan</td>\n",
       "      <td>-6412</td>\n",
       "    </tr>\n",
       "    <tr>\n",
       "      <th>4158</th>\n",
       "      <td>▁brauchte</td>\n",
       "      <td>-4155</td>\n",
       "    </tr>\n",
       "    <tr>\n",
       "      <th>2753</th>\n",
       "      <td>▁Entwicklungs</td>\n",
       "      <td>-2750</td>\n",
       "    </tr>\n",
       "    <tr>\n",
       "      <th>1570</th>\n",
       "      <td>▁darum</td>\n",
       "      <td>-1567</td>\n",
       "    </tr>\n",
       "    <tr>\n",
       "      <th>381</th>\n",
       "      <td>▁unter</td>\n",
       "      <td>-378</td>\n",
       "    </tr>\n",
       "    <tr>\n",
       "      <th>3090</th>\n",
       "      <td>▁kur</td>\n",
       "      <td>-3087</td>\n",
       "    </tr>\n",
       "    <tr>\n",
       "      <th>4129</th>\n",
       "      <td>▁Leidenschaft</td>\n",
       "      <td>-4126</td>\n",
       "    </tr>\n",
       "  </tbody>\n",
       "</table>\n",
       "</div>"
      ],
      "text/plain": [
       "                  0     1\n",
       "6798           ▁Dan -6795\n",
       "3476         ▁Kampf -3473\n",
       "7181       ▁bestand -7178\n",
       "6415           ▁Pan -6412\n",
       "4158      ▁brauchte -4155\n",
       "2753  ▁Entwicklungs -2750\n",
       "1570         ▁darum -1567\n",
       "381          ▁unter  -378\n",
       "3090           ▁kur -3087\n",
       "4129  ▁Leidenschaft -4126"
      ]
     },
     "execution_count": 29,
     "metadata": {},
     "output_type": "execute_result"
    }
   ],
   "source": [
    "vocab_de_list.sample(10)"
   ]
  },
  {
   "cell_type": "code",
   "execution_count": 30,
   "metadata": {},
   "outputs": [
    {
     "data": {
      "text/html": [
       "<div>\n",
       "<style scoped>\n",
       "    .dataframe tbody tr th:only-of-type {\n",
       "        vertical-align: middle;\n",
       "    }\n",
       "\n",
       "    .dataframe tbody tr th {\n",
       "        vertical-align: top;\n",
       "    }\n",
       "\n",
       "    .dataframe thead th {\n",
       "        text-align: right;\n",
       "    }\n",
       "</style>\n",
       "<table border=\"1\" class=\"dataframe\">\n",
       "  <thead>\n",
       "    <tr style=\"text-align: right;\">\n",
       "      <th></th>\n",
       "      <th>0</th>\n",
       "      <th>1</th>\n",
       "    </tr>\n",
       "  </thead>\n",
       "  <tbody>\n",
       "    <tr>\n",
       "      <th>2447</th>\n",
       "      <td>view</td>\n",
       "      <td>-2444</td>\n",
       "    </tr>\n",
       "    <tr>\n",
       "      <th>5508</th>\n",
       "      <td>20</td>\n",
       "      <td>-5505</td>\n",
       "    </tr>\n",
       "    <tr>\n",
       "      <th>440</th>\n",
       "      <td>▁des</td>\n",
       "      <td>-437</td>\n",
       "    </tr>\n",
       "    <tr>\n",
       "      <th>2726</th>\n",
       "      <td>▁lands</td>\n",
       "      <td>-2723</td>\n",
       "    </tr>\n",
       "    <tr>\n",
       "      <th>2581</th>\n",
       "      <td>isions</td>\n",
       "      <td>-2578</td>\n",
       "    </tr>\n",
       "    <tr>\n",
       "      <th>1872</th>\n",
       "      <td>▁ground</td>\n",
       "      <td>-1869</td>\n",
       "    </tr>\n",
       "    <tr>\n",
       "      <th>5603</th>\n",
       "      <td>▁frank</td>\n",
       "      <td>-5600</td>\n",
       "    </tr>\n",
       "    <tr>\n",
       "      <th>2249</th>\n",
       "      <td>like</td>\n",
       "      <td>-2246</td>\n",
       "    </tr>\n",
       "    <tr>\n",
       "      <th>4390</th>\n",
       "      <td>▁toward</td>\n",
       "      <td>-4387</td>\n",
       "    </tr>\n",
       "    <tr>\n",
       "      <th>2570</th>\n",
       "      <td>▁introdu</td>\n",
       "      <td>-2567</td>\n",
       "    </tr>\n",
       "  </tbody>\n",
       "</table>\n",
       "</div>"
      ],
      "text/plain": [
       "             0     1\n",
       "2447      view -2444\n",
       "5508        20 -5505\n",
       "440       ▁des  -437\n",
       "2726    ▁lands -2723\n",
       "2581    isions -2578\n",
       "1872   ▁ground -1869\n",
       "5603    ▁frank -5600\n",
       "2249      like -2246\n",
       "4390   ▁toward -4387\n",
       "2570  ▁introdu -2567"
      ]
     },
     "execution_count": 30,
     "metadata": {},
     "output_type": "execute_result"
    }
   ],
   "source": [
    "vocab_en_list.sample(10)"
   ]
  },
  {
   "cell_type": "code",
   "execution_count": 31,
   "metadata": {},
   "outputs": [
    {
     "data": {
      "text/plain": [
       "True"
      ]
     },
     "execution_count": 31,
     "metadata": {},
     "output_type": "execute_result"
    }
   ],
   "source": [
    "sp = spm.SentencePieceProcessor()\n",
    "sp.load('en.model')\n"
   ]
  },
  {
   "cell_type": "code",
   "execution_count": null,
   "metadata": {},
   "outputs": [],
   "source": []
  }
 ],
 "metadata": {
  "kernelspec": {
   "display_name": "Python 3",
   "language": "python",
   "name": "python3"
  },
  "language_info": {
   "codemirror_mode": {
    "name": "ipython",
    "version": 3
   },
   "file_extension": ".py",
   "mimetype": "text/x-python",
   "name": "python",
   "nbconvert_exporter": "python",
   "pygments_lexer": "ipython3",
   "version": "3.10.4"
  }
 },
 "nbformat": 4,
 "nbformat_minor": 2
}
